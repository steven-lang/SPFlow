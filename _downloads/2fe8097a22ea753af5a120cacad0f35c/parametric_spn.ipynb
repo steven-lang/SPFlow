{
  "cells": [
    {
      "cell_type": "code",
      "execution_count": null,
      "metadata": {
        "collapsed": false
      },
      "outputs": [],
      "source": [
        "%matplotlib inline"
      ]
    },
    {
      "cell_type": "markdown",
      "metadata": {},
      "source": [
        "\n# Parametric SPN\n\n\nThe setup is similar to the Mixed SPN, but here we learn a parametric SPN.\n\n"
      ]
    },
    {
      "cell_type": "code",
      "execution_count": null,
      "metadata": {
        "collapsed": false
      },
      "outputs": [],
      "source": [
        "import numpy as np\n\nnp.random.seed(123)\n\nfrom spn.algorithms.LearningWrappers import learn_parametric\nfrom spn.structure.Base import Context\nfrom spn.structure.leaves.parametric.Parametric import Categorical, Gaussian\n\na = np.random.randint(2, size=1000).reshape(-1, 1)\nb = np.random.randint(3, size=1000).reshape(-1, 1)\nc = np.r_[np.random.normal(10, 5, (300, 1)), np.random.normal(20, 10, (700, 1))]\nd = 5 * a + 3 * b + c\n\ntrain_data = np.c_[a, b, c, d]\n\nds_context = Context(parametric_types=[Categorical, Categorical, Gaussian, Gaussian]).add_domains(train_data)\n\nspn = learn_parametric(train_data, ds_context, min_instances_slice=20)"
      ]
    }
  ],
  "metadata": {
    "kernelspec": {
      "display_name": "Python 3",
      "language": "python",
      "name": "python3"
    },
    "language_info": {
      "codemirror_mode": {
        "name": "ipython",
        "version": 3
      },
      "file_extension": ".py",
      "mimetype": "text/x-python",
      "name": "python",
      "nbconvert_exporter": "python",
      "pygments_lexer": "ipython3",
      "version": "3.6.10"
    }
  },
  "nbformat": 4,
  "nbformat_minor": 0
}