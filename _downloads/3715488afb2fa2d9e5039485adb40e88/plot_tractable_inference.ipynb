{
  "cells": [
    {
      "cell_type": "code",
      "execution_count": null,
      "metadata": {
        "collapsed": false
      },
      "outputs": [],
      "source": [
        "%matplotlib inline"
      ]
    },
    {
      "cell_type": "markdown",
      "metadata": {},
      "source": [
        "\n# Tractable Marginal Inference\n\n\nThis shows how to perform marginal inference on Sum-Product Networks.\n\nThis picks up from the `marginalizing_an_spn` tutorial.\n\n"
      ]
    },
    {
      "cell_type": "code",
      "execution_count": null,
      "metadata": {
        "collapsed": false
      },
      "outputs": [],
      "source": [
        "from spn.structure.leaves.parametric.Parametric import Categorical\nfrom spn.structure.Base import Sum, Product\nfrom spn.structure.Base import assign_ids, rebuild_scopes_bottom_up\nfrom spn.algorithms.Marginalization import marginalize\n\nfrom spn.io.Graphics import draw_spn\nimport matplotlib.pyplot as plt\n\np0 = Product(children=[Categorical(p=[0.3, 0.7], scope=1), Categorical(p=[0.4, 0.6], scope=2)])\np1 = Product(children=[Categorical(p=[0.5, 0.5], scope=1), Categorical(p=[0.6, 0.4], scope=2)])\ns1 = Sum(weights=[0.3, 0.7], children=[p0, p1])\np2 = Product(children=[Categorical(p=[0.2, 0.8], scope=0), s1])\np3 = Product(children=[Categorical(p=[0.2, 0.8], scope=0), Categorical(p=[0.3, 0.7], scope=1)])\np4 = Product(children=[p3, Categorical(p=[0.4, 0.6], scope=2)])\nspn = Sum(weights=[0.4, 0.6], children=[p2, p4])\n\nassign_ids(spn)\nrebuild_scopes_bottom_up(spn)\n\nspn_marg = marginalize(spn, [1, 2])"
      ]
    },
    {
      "cell_type": "markdown",
      "metadata": {},
      "source": [
        "Here is an example on how to evaluate the SPNs from the\n`marginalizing_an_spn` tutorial.\nSince we have 3 variables, we want to create a 2D numpy array of 3 columns\nand 1 row.\n\n"
      ]
    },
    {
      "cell_type": "code",
      "execution_count": null,
      "metadata": {
        "collapsed": false
      },
      "outputs": [],
      "source": [
        "import numpy as np\ntest_data = np.array([1.0, 0.0, 1.0]).reshape(-1, 3)"
      ]
    },
    {
      "cell_type": "markdown",
      "metadata": {},
      "source": [
        "We can then compute the log-likelihood:\n\n"
      ]
    },
    {
      "cell_type": "code",
      "execution_count": null,
      "metadata": {
        "collapsed": false
      },
      "outputs": [],
      "source": [
        "from spn.algorithms.Inference import log_likelihood\n\nll = log_likelihood(spn, test_data)\nprint(ll, np.exp(ll))"
      ]
    },
    {
      "cell_type": "markdown",
      "metadata": {},
      "source": [
        "We can also compute the log-likelihood of the marginal SPN.\nNotice we use the same ``test_data`` as input: the SPN still expects an array\nwith data at columns 1 and 2, but ignores column 0.\n\n"
      ]
    },
    {
      "cell_type": "code",
      "execution_count": null,
      "metadata": {
        "collapsed": false
      },
      "outputs": [],
      "source": [
        "llm = log_likelihood(spn_marg, test_data)\nprint(llm, np.exp(llm))"
      ]
    },
    {
      "cell_type": "markdown",
      "metadata": {},
      "source": [
        "Another alternative would be to perform **marginal inference** on the original\nSPN. This can be done by setting ``np.nan`` for the feature we want to\nmarginalize on the fly. It does not change the structure.\n\n"
      ]
    },
    {
      "cell_type": "code",
      "execution_count": null,
      "metadata": {
        "collapsed": false
      },
      "outputs": [],
      "source": [
        "test_data2 = np.array([np.nan, 0.0, 1.0]).reshape(-1, 3)\nllom = log_likelihood(spn, test_data2)\nprint(llom, np.exp(llom))"
      ]
    },
    {
      "cell_type": "markdown",
      "metadata": {},
      "source": [
        "Observe that the *marginal inference solution* and the *marginal SPN solution*\nare the same.\n\n"
      ]
    },
    {
      "cell_type": "code",
      "execution_count": null,
      "metadata": {
        "collapsed": false
      },
      "outputs": [],
      "source": [
        "print(np.array_equal(llm, llom))"
      ]
    }
  ],
  "metadata": {
    "kernelspec": {
      "display_name": "Python 3",
      "language": "python",
      "name": "python3"
    },
    "language_info": {
      "codemirror_mode": {
        "name": "ipython",
        "version": 3
      },
      "file_extension": ".py",
      "mimetype": "text/x-python",
      "name": "python",
      "nbconvert_exporter": "python",
      "pygments_lexer": "ipython3",
      "version": "3.6.10"
    }
  },
  "nbformat": 4,
  "nbformat_minor": 0
}