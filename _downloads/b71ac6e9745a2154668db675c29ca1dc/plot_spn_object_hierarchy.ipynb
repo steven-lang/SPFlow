{
  "cells": [
    {
      "cell_type": "code",
      "execution_count": null,
      "metadata": {
        "collapsed": false
      },
      "outputs": [],
      "source": [
        "%matplotlib inline"
      ]
    },
    {
      "cell_type": "markdown",
      "metadata": {},
      "source": [
        "\n\n# Composing SPNs from Sums and Products\n\n\nThe alternative to the DSL is to construct SPNs directly from ``Sum`` and\n``Product`` objects, demonstrated here:\n\n"
      ]
    },
    {
      "cell_type": "code",
      "execution_count": null,
      "metadata": {
        "collapsed": false
      },
      "outputs": [],
      "source": [
        "from spn.structure.leaves.parametric.Parametric import Categorical\nfrom spn.structure.Base import Sum, Product\nfrom spn.structure.Base import assign_ids, rebuild_scopes_bottom_up\n\nfrom spn.io.Graphics import draw_spn\nimport matplotlib.pyplot as plt\n\n\np0 = Product(children=[Categorical(p=[0.3, 0.7], scope=1), Categorical(p=[0.4, 0.6], scope=2)])\np1 = Product(children=[Categorical(p=[0.5, 0.5], scope=1), Categorical(p=[0.6, 0.4], scope=2)])\ns1 = Sum(weights=[0.3, 0.7], children=[p0, p1])\np2 = Product(children=[Categorical(p=[0.2, 0.8], scope=0), s1])\np3 = Product(children=[Categorical(p=[0.2, 0.8], scope=0), Categorical(p=[0.3, 0.7], scope=1)])\np4 = Product(children=[p3, Categorical(p=[0.4, 0.6], scope=2)])\nspn = Sum(weights=[0.4, 0.6], children=[p2, p4])\n\nassign_ids(spn)\nrebuild_scopes_bottom_up(spn)\n\nax = draw_spn(spn)"
      ]
    }
  ],
  "metadata": {
    "kernelspec": {
      "display_name": "Python 3",
      "language": "python",
      "name": "python3"
    },
    "language_info": {
      "codemirror_mode": {
        "name": "ipython",
        "version": 3
      },
      "file_extension": ".py",
      "mimetype": "text/x-python",
      "name": "python",
      "nbconvert_exporter": "python",
      "pygments_lexer": "ipython3",
      "version": "3.6.10"
    }
  },
  "nbformat": 4,
  "nbformat_minor": 0
}