{
  "cells": [
    {
      "cell_type": "code",
      "execution_count": null,
      "metadata": {
        "collapsed": false
      },
      "outputs": [],
      "source": [
        "%matplotlib inline"
      ]
    },
    {
      "cell_type": "markdown",
      "metadata": {},
      "source": [
        "\n# Multivariate Leaf\n\n\nWe can learn a SPN with multivariate leaf. This example demonstrates learning\nan SPN with Chow Liu tree (CLTs) as multivariate leaves.\n\n"
      ]
    },
    {
      "cell_type": "code",
      "execution_count": null,
      "metadata": {
        "collapsed": false
      },
      "outputs": [],
      "source": [
        "import numpy as np\n\nnp.random.seed(123)\n\nfrom spn.structure.leaves.cltree.CLTree import create_cltree_leaf\nfrom spn.structure.Base import Context\nfrom spn.structure.leaves.parametric.Parametric import Bernoulli\nfrom spn.algorithms.LearningWrappers import learn_parametric\nfrom spn.algorithms.Inference import log_likelihood\n\ntrain_data = np.random.binomial(1, [0.1, 0.2, 0.3, 0.4, 0.5, 0.6, 0.7, 0.8, 0.9, 0.1], size=(100, 10))\n\n\nds_context = Context(\n    parametric_types=[\n        Bernoulli,\n        Bernoulli,\n        Bernoulli,\n        Bernoulli,\n        Bernoulli,\n        Bernoulli,\n        Bernoulli,\n        Bernoulli,\n        Bernoulli,\n        Bernoulli,\n    ]\n).add_domains(train_data)\n\nspn = learn_parametric(\n    train_data,\n    ds_context,\n    min_instances_slice=20,\n    min_features_slice=1,\n    multivariate_leaf=True,\n    leaves=create_cltree_leaf,\n)\n\nll = log_likelihood(spn, train_data)\nprint(np.mean(ll))"
      ]
    }
  ],
  "metadata": {
    "kernelspec": {
      "display_name": "Python 3",
      "language": "python",
      "name": "python3"
    },
    "language_info": {
      "codemirror_mode": {
        "name": "ipython",
        "version": 3
      },
      "file_extension": ".py",
      "mimetype": "text/x-python",
      "name": "python",
      "nbconvert_exporter": "python",
      "pygments_lexer": "ipython3",
      "version": "3.6.10"
    }
  },
  "nbformat": 4,
  "nbformat_minor": 0
}