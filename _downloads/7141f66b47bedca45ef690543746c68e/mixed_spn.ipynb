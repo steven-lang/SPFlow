{
  "cells": [
    {
      "cell_type": "code",
      "execution_count": null,
      "metadata": {
        "collapsed": false
      },
      "outputs": [],
      "source": [
        "%matplotlib inline"
      ]
    },
    {
      "cell_type": "markdown",
      "metadata": {},
      "source": [
        "\n# Mixed SPN\n\n\nThis demonstrates learning a Mixed Sum-Product Network (MSPN) where the data is\ncomposed of variables drawn from multiple types of distributions.\n\n"
      ]
    },
    {
      "cell_type": "code",
      "execution_count": null,
      "metadata": {
        "collapsed": false
      },
      "outputs": [],
      "source": [
        "import numpy as np\n\nnp.random.seed(123)\n\nfrom spn.algorithms.LearningWrappers import learn_mspn\nfrom spn.structure.Base import Context\nfrom spn.structure.StatisticalTypes import MetaType"
      ]
    },
    {
      "cell_type": "markdown",
      "metadata": {},
      "source": [
        "We will compose a data set from four features:\n\n- two Discrete\n- two Real valued\n\nA and B are discrete, C and D are real-valued.\n\n"
      ]
    },
    {
      "cell_type": "code",
      "execution_count": null,
      "metadata": {
        "collapsed": false
      },
      "outputs": [],
      "source": [
        "a = np.random.randint(2, size=1000).reshape(-1, 1)\nb = np.random.randint(3, size=1000).reshape(-1, 1)\nc = np.r_[np.random.normal(10, 5, (300, 1)), np.random.normal(20, 10, (700, 1))]\nd = 5 * a + 3 * b + c\n\ntrain_data = np.c_[a, b, c, d]"
      ]
    },
    {
      "cell_type": "markdown",
      "metadata": {},
      "source": [
        "The types of distributions are known ahead of time, so we can add these\nas ``meta_types`` in the ``Context``:\n\n"
      ]
    },
    {
      "cell_type": "code",
      "execution_count": null,
      "metadata": {
        "collapsed": false
      },
      "outputs": [],
      "source": [
        "ds_context = Context(meta_types=[MetaType.DISCRETE, MetaType.DISCRETE, MetaType.REAL, MetaType.REAL])\nds_context.add_domains(train_data)"
      ]
    },
    {
      "cell_type": "markdown",
      "metadata": {},
      "source": [
        "Finally, we learn the MSPN:\n\n"
      ]
    },
    {
      "cell_type": "code",
      "execution_count": null,
      "metadata": {
        "collapsed": false
      },
      "outputs": [],
      "source": [
        "mspn = learn_mspn(train_data, ds_context, min_instances_slice=20)"
      ]
    }
  ],
  "metadata": {
    "kernelspec": {
      "display_name": "Python 3",
      "language": "python",
      "name": "python3"
    },
    "language_info": {
      "codemirror_mode": {
        "name": "ipython",
        "version": 3
      },
      "file_extension": ".py",
      "mimetype": "text/x-python",
      "name": "python",
      "nbconvert_exporter": "python",
      "pygments_lexer": "ipython3",
      "version": "3.6.10"
    }
  },
  "nbformat": 4,
  "nbformat_minor": 0
}