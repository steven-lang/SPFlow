{
  "cells": [
    {
      "cell_type": "code",
      "execution_count": null,
      "metadata": {
        "collapsed": false
      },
      "outputs": [],
      "source": [
        "%matplotlib inline"
      ]
    },
    {
      "cell_type": "markdown",
      "metadata": {},
      "source": [
        "\n=======================\nCutset Networks (CNets)\n=======================\n\nWith SPFlow we can learn both the structure and the parameters of CNets, a\nparticular kind of SPNs with CLTs as leaf providing exact MPE inference.\n\n"
      ]
    },
    {
      "cell_type": "code",
      "execution_count": null,
      "metadata": {
        "collapsed": false
      },
      "outputs": [],
      "source": [
        "import numpy as np\n\nnp.random.seed(123)\n\n\nfrom spn.structure.leaves.cltree.CLTree import create_cltree_leaf\nfrom spn.structure.Base import Context\nfrom spn.structure.leaves.parametric.Parametric import Bernoulli\nfrom spn.algorithms.LearningWrappers import learn_parametric, learn_cnet\nfrom spn.algorithms.Inference import log_likelihood\nfrom spn.algorithms.MPE import mpe\n\ntrain_data = np.random.binomial(1, [0.1, 0.2, 0.3, 0.4, 0.5, 0.6, 0.7, 0.8, 0.9, 0.1], size=(100, 10))\n\nds_context = Context(\n    parametric_types=[\n        Bernoulli,\n        Bernoulli,\n        Bernoulli,\n        Bernoulli,\n        Bernoulli,\n        Bernoulli,\n        Bernoulli,\n        Bernoulli,\n        Bernoulli,\n        Bernoulli,\n    ]\n).add_domains(train_data)\n\n# Learning a CNet with a naive mle conditioning\ncnet_naive_mle = learn_cnet(train_data, ds_context, cond=\"naive_mle\", min_instances_slice=20, min_features_slice=1)\n\n# Learning a CNet with random conditioning\ncnet_random = learn_cnet(train_data, ds_context, cond=\"random\", min_instances_slice=20, min_features_slice=1)\n\nll = log_likelihood(cnet_naive_mle, train_data)\nprint(\"Naive mle conditioning\", np.mean(ll))\n\nll = log_likelihood(cnet_random, train_data)\nprint(\"Random conditioning\", np.mean(ll))\n\n# computing exact MPE\ntrain_data_mpe = train_data.astype(float)\ntrain_data_mpe[:, 0] = np.nan\nprint(mpe(cnet_random, train_data_mpe))"
      ]
    }
  ],
  "metadata": {
    "kernelspec": {
      "display_name": "Python 3",
      "language": "python",
      "name": "python3"
    },
    "language_info": {
      "codemirror_mode": {
        "name": "ipython",
        "version": 3
      },
      "file_extension": ".py",
      "mimetype": "text/x-python",
      "name": "python",
      "nbconvert_exporter": "python",
      "pygments_lexer": "ipython3",
      "version": "3.6.10"
    }
  },
  "nbformat": 4,
  "nbformat_minor": 0
}